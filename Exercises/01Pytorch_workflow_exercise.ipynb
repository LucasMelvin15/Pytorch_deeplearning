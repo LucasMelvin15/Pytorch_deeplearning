{
  "nbformat": 4,
  "nbformat_minor": 0,
  "metadata": {
    "colab": {
      "provenance": [],
      "authorship_tag": "ABX9TyMwXxKxLguVlFYDPJLSJh2K",
      "include_colab_link": true
    },
    "kernelspec": {
      "name": "python3",
      "display_name": "Python 3"
    },
    "language_info": {
      "name": "python"
    }
  },
  "cells": [
    {
      "cell_type": "markdown",
      "metadata": {
        "id": "view-in-github",
        "colab_type": "text"
      },
      "source": [
        "<a href=\"https://colab.research.google.com/github/LucasMelvin15/Pytorch_deeplearning/blob/main/Exercises/01Pytorch_workflow_exercise.ipynb\" target=\"_parent\"><img src=\"https://colab.research.google.com/assets/colab-badge.svg\" alt=\"Open In Colab\"/></a>"
      ]
    },
    {
      "cell_type": "markdown",
      "source": [
        "1. Create a straight line dataset using the linear regression formula (weight * X + bias).\n",
        "\n",
        "* Set weight=0.3 and bias=0.9 there should be at least 100 datapoints total.\n",
        "* Split the data into 80% training, 20% testing.\n",
        "* Plot the training and testing data so it becomes visual."
      ],
      "metadata": {
        "id": "mG596JqzoYb_"
      }
    },
    {
      "cell_type": "code",
      "source": [
        "import torch\n",
        "from torch import nn\n",
        "import  matplotlib.pyplot as plt"
      ],
      "metadata": {
        "id": "T_CU6WgLoqJ2"
      },
      "execution_count": 1,
      "outputs": []
    },
    {
      "cell_type": "code",
      "source": [
        "#1.Set weight=0.3 and bias=0.9 there should be at least 100 datapoints total.\n",
        "weight = 0.3\n",
        "bias = 0.9\n",
        "\n",
        "start = 0\n",
        "end = 1\n",
        "step = 0.01\n",
        "\n",
        "X = torch.arange(start, end, step).unsqueeze(dim=1)\n",
        "y = weight * X + bias\n",
        "X[:10] , y[:10]\n"
      ],
      "metadata": {
        "colab": {
          "base_uri": "https://localhost:8080/"
        },
        "id": "2bdrTwUAqEK7",
        "outputId": "c263fca1-ae7c-4c3a-de4c-b5d576412bf7"
      },
      "execution_count": 2,
      "outputs": [
        {
          "output_type": "execute_result",
          "data": {
            "text/plain": [
              "(tensor([[0.0000],\n",
              "         [0.0100],\n",
              "         [0.0200],\n",
              "         [0.0300],\n",
              "         [0.0400],\n",
              "         [0.0500],\n",
              "         [0.0600],\n",
              "         [0.0700],\n",
              "         [0.0800],\n",
              "         [0.0900]]),\n",
              " tensor([[0.9000],\n",
              "         [0.9030],\n",
              "         [0.9060],\n",
              "         [0.9090],\n",
              "         [0.9120],\n",
              "         [0.9150],\n",
              "         [0.9180],\n",
              "         [0.9210],\n",
              "         [0.9240],\n",
              "         [0.9270]]))"
            ]
          },
          "metadata": {},
          "execution_count": 2
        }
      ]
    },
    {
      "cell_type": "code",
      "source": [
        "len(X), len(y)"
      ],
      "metadata": {
        "colab": {
          "base_uri": "https://localhost:8080/"
        },
        "id": "iS0bwlkZrrTG",
        "outputId": "19a16a69-9fc1-42b4-8ca3-9814e30aca18"
      },
      "execution_count": 3,
      "outputs": [
        {
          "output_type": "execute_result",
          "data": {
            "text/plain": [
              "(100, 100)"
            ]
          },
          "metadata": {},
          "execution_count": 3
        }
      ]
    },
    {
      "cell_type": "code",
      "source": [
        "# Split the data into 80% training, 20% testing.\n",
        "train_split = int(0.8 *len(X))\n",
        "X_train, y_train = X[:train_split],y[:train_split]\n",
        "X_test, y_test = X[train_split:], y[train_split:]\n",
        "\n",
        "len(X_train), len(y_train), len(X_test), len(y_test)"
      ],
      "metadata": {
        "colab": {
          "base_uri": "https://localhost:8080/"
        },
        "id": "2EQZbOe0rxEL",
        "outputId": "af457db2-cb17-45bb-e462-557572d63adb"
      },
      "execution_count": 4,
      "outputs": [
        {
          "output_type": "execute_result",
          "data": {
            "text/plain": [
              "(80, 80, 20, 20)"
            ]
          },
          "metadata": {},
          "execution_count": 4
        }
      ]
    },
    {
      "cell_type": "code",
      "source": [
        "def plot_predictions(train_data = X_train,\n",
        "                     train_labels=y_train,\n",
        "                     test_data=X_test,\n",
        "                     test_labels=y_test,\n",
        "                     predictions=None):\n",
        "\n",
        "    plt.figure(figsize=(10,7))\n",
        "    plt.scatter(train_data, train_labels, c='b', s=4, label=\"training data\")\n",
        "    plt.scatter(test_data, test_labels, c=\"g\" , s=4, label=\"tesing data\")\n",
        "\n",
        "    if predictions is not None:\n",
        "       plt.scatter(test_data,predictions,c ='r', s=4, label=\"predictions\")\n",
        "\n",
        "    plt.legend(prop={\"size\": 14})"
      ],
      "metadata": {
        "id": "c4eh9v5ttRUw"
      },
      "execution_count": 5,
      "outputs": []
    },
    {
      "cell_type": "code",
      "source": [
        "plot_predictions()"
      ],
      "metadata": {
        "colab": {
          "base_uri": "https://localhost:8080/",
          "height": 593
        },
        "id": "2RtYs2l2vhjA",
        "outputId": "b3298580-30da-4f61-fa34-10b9fd4f4ea2"
      },
      "execution_count": 6,
      "outputs": [
        {
          "output_type": "display_data",
          "data": {
            "text/plain": [
              "<Figure size 1000x700 with 1 Axes>"
            ],
            "image/png": "[encoded data removed]"
          },
          "metadata": {}
        }
      ]
    },
    {
      "cell_type": "markdown",
      "source": [
        "2.Build a PyTorch model by subclassing nn.Module.\n",
        "\n",
        "Inside should be a randomly initialized nn.Parameter() with requires_grad=True, one for weights and one for bias.\n",
        "\n",
        "Implement the forward() method to compute the linear regression function you used to create the dataset in 1.\n",
        "\n",
        "Once you've constructed the model, make an instance of it and check its state_dict().\n",
        "Note: If you'd like to use nn.Linear() instead of nn.Parameter() you can."
      ],
      "metadata": {
        "id": "hAqFUadkxfVg"
      }
    },
    {
      "cell_type": "markdown",
      "source": [],
      "metadata": {
        "id": "dEn5j5spoT8f"
      }
    },
    {
      "cell_type": "code",
      "source": [
        "#subclass the nn.module to make our model\n",
        "class LinearRegressionModelV2(nn.Module):\n",
        "  def __init__(self):\n",
        "    super().__init__()\n",
        "    self.linear_layer= nn.Linear(in_features=1, out_features=1)\n",
        "  #define the forward computation (input data x flows through nn.linear)\n",
        "  def forward(self,x:torch.Tensor)-> torch.Tensor:\n",
        "    return self.linear_layer(x)\n",
        "\n",
        "#set a manual seed\n",
        "torch.manual_seed(42)\n",
        "model_1 = LinearRegressionModelV2()\n",
        "model_1, model_1.state_dict()"
      ],
      "metadata": {
        "colab": {
          "base_uri": "https://localhost:8080/"
        },
        "id": "yOs5SHqsUUxD",
        "outputId": "2f144301-522d-4048-cb89-d7db73c0d02a"
      },
      "execution_count": 7,
      "outputs": [
        {
          "output_type": "execute_result",
          "data": {
            "text/plain": [
              "(LinearRegressionModelV2(\n",
              "   (linear_layer): Linear(in_features=1, out_features=1, bias=True)\n",
              " ),\n",
              " OrderedDict([('linear_layer.weight', tensor([[0.7645]])),\n",
              "              ('linear_layer.bias', tensor([0.8300]))]))"
            ]
          },
          "metadata": {},
          "execution_count": 7
        }
      ]
    },
    {
      "cell_type": "markdown",
      "source": [
        "3.Create a loss function and optimizer using nn.L1Loss() and torch.optim.SGD(params, lr) respectively.\n",
        "\n",
        "Set the learning rate of the optimizer to be 0.01 and the parameters to optimize should be the model parameters from the model you created in 2.\n",
        "\n",
        "Write a training loop to perform the appropriate training steps for 300 epochs.\n",
        "The training loop should test the model on the test dataset every 20 epochs."
      ],
      "metadata": {
        "id": "ijzOtBJ_WW7Y"
      }
    },
    {
      "cell_type": "code",
      "source": [
        "#create a loss function\n",
        "loss_fn = nn.L1Loss()\n",
        "\n",
        "#create an optimizer\n",
        "optimizer = torch.optim.SGD(model_1.parameters(), lr=0.01)\n"
      ],
      "metadata": {
        "id": "Dsjx_P7CWh61"
      },
      "execution_count": 8,
      "outputs": []
    },
    {
      "cell_type": "code",
      "source": [
        "torch.manual_seed(42)\n",
        "\n",
        "#training\n",
        "#set the number of epochs\n",
        "epochs= 500\n",
        "for epoch in range(epochs):\n",
        "    model_1.train()\n",
        "    #forward pass\n",
        "    y_pred = model_1(X_train)\n",
        "    #calculate loss\n",
        "    loss= loss_fn(y_pred,y_train)\n",
        "    #zero grad optimizer\n",
        "    optimizer.zero_grad()\n",
        "    #loss backward\n",
        "    loss.backward()\n",
        "    #step the optimizer\n",
        "    optimizer.step()\n",
        "\n",
        "    ##testing\n",
        "    model_1.eval()\n",
        "\n",
        "    #1.forward pass\n",
        "    with torch.inference_mode():\n",
        "      test_pred = model_1(X_test)\n",
        "\n",
        "      #calculate the testing loss\n",
        "      test_loss = loss_fn(test_pred,y_test)\n",
        "\n",
        "    if epoch  % 20== 0:\n",
        "      print(f\"epoch:{epoch}| Train loss: {loss} | Test loss:{test_loss}\")"
      ],
      "metadata": {
        "colab": {
          "base_uri": "https://localhost:8080/"
        },
        "id": "VWaJYIgeXEaA",
        "outputId": "d7fcdd71-e0a6-42c3-e26a-4423353ab505"
      },
      "execution_count": 9,
      "outputs": [
        {
          "output_type": "stream",
          "name": "stdout",
          "text": [
            "epoch:0| Train loss: 0.12756133079528809 | Test loss:0.33650320768356323\n",
            "epoch:20| Train loss: 0.08187223970890045 | Test loss:0.2184026539325714\n",
            "epoch:40| Train loss: 0.07207288593053818 | Test loss:0.17458662390708923\n",
            "epoch:60| Train loss: 0.06507987529039383 | Test loss:0.15310418605804443\n",
            "epoch:80| Train loss: 0.05822876840829849 | Test loss:0.1367770880460739\n",
            "epoch:100| Train loss: 0.05137667804956436 | Test loss:0.12079393863677979\n",
            "epoch:120| Train loss: 0.044525571167469025 | Test loss:0.10446684062480927\n",
            "epoch:140| Train loss: 0.037674423307180405 | Test loss:0.08813951164484024\n",
            "epoch:160| Train loss: 0.03082224354147911 | Test loss:0.0721558928489685\n",
            "epoch:180| Train loss: 0.02397105097770691 | Test loss:0.055828340351581573\n",
            "epoch:200| Train loss: 0.01711984910070896 | Test loss:0.03950077295303345\n",
            "epoch:220| Train loss: 0.010267667472362518 | Test loss:0.02351721003651619\n",
            "epoch:240| Train loss: 0.0034169009886682034 | Test loss:0.007191836833953857\n",
            "epoch:260| Train loss: 0.007878491654992104 | Test loss:0.007064247038215399\n",
            "epoch:280| Train loss: 0.007878491654992104 | Test loss:0.007064247038215399\n",
            "epoch:300| Train loss: 0.007878491654992104 | Test loss:0.007064247038215399\n",
            "epoch:320| Train loss: 0.007878491654992104 | Test loss:0.007064247038215399\n",
            "epoch:340| Train loss: 0.007878491654992104 | Test loss:0.007064247038215399\n",
            "epoch:360| Train loss: 0.007878491654992104 | Test loss:0.007064247038215399\n",
            "epoch:380| Train loss: 0.007878491654992104 | Test loss:0.007064247038215399\n",
            "epoch:400| Train loss: 0.007878491654992104 | Test loss:0.007064247038215399\n",
            "epoch:420| Train loss: 0.007878491654992104 | Test loss:0.007064247038215399\n",
            "epoch:440| Train loss: 0.007878491654992104 | Test loss:0.007064247038215399\n",
            "epoch:460| Train loss: 0.007878491654992104 | Test loss:0.007064247038215399\n",
            "epoch:480| Train loss: 0.007878491654992104 | Test loss:0.007064247038215399\n"
          ]
        }
      ]
    },
    {
      "cell_type": "markdown",
      "source": [
        "4.Make predictions with the trained model on the test data.\n",
        "Visualize these predictions against the original training and testing data"
      ],
      "metadata": {
        "id": "17pEdKpqZexi"
      }
    },
    {
      "cell_type": "code",
      "source": [
        "#make predictiions\n",
        "\n",
        "model_1.eval()\n",
        "\n",
        "with torch.inference_mode():\n",
        "  y_preds = model_1(X_test)\n",
        "\n",
        "y_preds"
      ],
      "metadata": {
        "colab": {
          "base_uri": "https://localhost:8080/"
        },
        "id": "qYc_wqnwZgtv",
        "outputId": "5565926e-8625-48f3-a78e-e7f4553d1b9c"
      },
      "execution_count": 10,
      "outputs": [
        {
          "output_type": "execute_result",
          "data": {
            "text/plain": [
              "tensor([[1.1333],\n",
              "        [1.1363],\n",
              "        [1.1393],\n",
              "        [1.1423],\n",
              "        [1.1454],\n",
              "        [1.1484],\n",
              "        [1.1514],\n",
              "        [1.1545],\n",
              "        [1.1575],\n",
              "        [1.1605],\n",
              "        [1.1635],\n",
              "        [1.1666],\n",
              "        [1.1696],\n",
              "        [1.1726],\n",
              "        [1.1757],\n",
              "        [1.1787],\n",
              "        [1.1817],\n",
              "        [1.1847],\n",
              "        [1.1878],\n",
              "        [1.1908]])"
            ]
          },
          "metadata": {},
          "execution_count": 10
        }
      ]
    },
    {
      "cell_type": "code",
      "source": [
        "plot_predictions(predictions = y_preds)"
      ],
      "metadata": {
        "colab": {
          "base_uri": "https://localhost:8080/",
          "height": 593
        },
        "id": "qvBTX16BZ7Zf",
        "outputId": "446383c1-8812-459c-c174-46339e7eda05"
      },
      "execution_count": 11,
      "outputs": [
        {
          "output_type": "display_data",
          "data": {
            "text/plain": [
              "<Figure size 1000x700 with 1 Axes>"
            ],
            "image/png": "[encoded data removed]"
          },
          "metadata": {}
        }
      ]
    },
    {
      "cell_type": "markdown",
      "source": [
        "5.Save your trained model's state_dict() to file.\n",
        "Create a new instance of your model class you made in 2. and load in the state_dict() you just saved to it.\n",
        "\n",
        "Perform predictions on your test data with the loaded model and confirm they match the original model predictions from 4.\n"
      ],
      "metadata": {
        "id": "bHP4prJtaVSJ"
      }
    },
    {
      "cell_type": "code",
      "source": [
        "#saving a model\n",
        "from pathlib import Path\n",
        "\n",
        "#create the models directory\n",
        "MODEL_PATH = Path('models')\n",
        "MODEL_PATH.mkdir(parents= True, exist_ok=True)\n",
        "\n",
        "#create a model save path\n",
        "MODEL_NAME =\"01_pytorch_workflow_model_1_exercise.pth\"\n",
        "MODEL_SAVE_PATH = MODEL_PATH / MODEL_NAME\n",
        "\n",
        "#save the model state dict\n",
        "print(f'saving model to:{MODEL_SAVE_PATH}')\n",
        "torch.save(obj=model_1.state_dict(), f=MODEL_SAVE_PATH)"
      ],
      "metadata": {
        "colab": {
          "base_uri": "https://localhost:8080/"
        },
        "id": "AH5NtezxabQa",
        "outputId": "5449fd40-f3bb-4b65-d1bd-c89c2a9e2575"
      },
      "execution_count": 13,
      "outputs": [
        {
          "output_type": "stream",
          "name": "stdout",
          "text": [
            "saving model to:models/01_pytorch_workflow_model_1_exercise.pth\n"
          ]
        }
      ]
    },
    {
      "cell_type": "code",
      "source": [
        "#loadig a model\n",
        "#create a new instance of the model\n",
        "loaded_model_1 = LinearRegressionModelV2()\n",
        "\n",
        "#load the model state dict\n",
        "loaded_model_1.load_state_dict(torch.load(f=MODEL_SAVE_PATH))"
      ],
      "metadata": {
        "colab": {
          "base_uri": "https://localhost:8080/"
        },
        "id": "3b3v6cwLb2oH",
        "outputId": "c02f2ced-ebec-4b97-c41d-965c93df0f2a"
      },
      "execution_count": 14,
      "outputs": [
        {
          "output_type": "execute_result",
          "data": {
            "text/plain": [
              "<All keys matched successfully>"
            ]
          },
          "metadata": {},
          "execution_count": 14
        }
      ]
    },
    {
      "cell_type": "code",
      "source": [
        "#evaluate the model\n",
        "\n",
        "loaded_model_1.eval()\n",
        "\n",
        "with torch.inference_mode():\n",
        "  loaded_model_1_preds = loaded_model_1(X_test)\n",
        "\n",
        "y_preds == loaded_model_1_preds"
      ],
      "metadata": {
        "colab": {
          "base_uri": "https://localhost:8080/"
        },
        "id": "qQ_f4m-6cUzS",
        "outputId": "bce11308-c667-4802-8198-7f0d49b7f062"
      },
      "execution_count": 16,
      "outputs": [
        {
          "output_type": "execute_result",
          "data": {
            "text/plain": [
              "tensor([[True],\n",
              "        [True],\n",
              "        [True],\n",
              "        [True],\n",
              "        [True],\n",
              "        [True],\n",
              "        [True],\n",
              "        [True],\n",
              "        [True],\n",
              "        [True],\n",
              "        [True],\n",
              "        [True],\n",
              "        [True],\n",
              "        [True],\n",
              "        [True],\n",
              "        [True],\n",
              "        [True],\n",
              "        [True],\n",
              "        [True],\n",
              "        [True]])"
            ]
          },
          "metadata": {},
          "execution_count": 16
        }
      ]
    }
  ]
}