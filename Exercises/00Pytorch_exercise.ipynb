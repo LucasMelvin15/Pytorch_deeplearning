{
  "nbformat": 4,
  "nbformat_minor": 0,
  "metadata": {
    "colab": {
      "provenance": [],
      "authorship_tag": "ABX9TyO22wolzyGgw4L+04jCdGhq",
      "include_colab_link": true
    },
    "kernelspec": {
      "name": "python3",
      "display_name": "Python 3"
    },
    "language_info": {
      "name": "python"
    }
  },
  "cells": [
    {
      "cell_type": "markdown",
      "metadata": {
        "id": "view-in-github",
        "colab_type": "text"
      },
      "source": [
        "<a href=\"https://colab.research.google.com/github/LucasMelvin15/Pytorch_deeplearning/blob/main/Exercises/00Pytorch_exercise.ipynb\" target=\"_parent\"><img src=\"https://colab.research.google.com/assets/colab-badge.svg\" alt=\"Open In Colab\"/></a>"
      ]
    },
    {
      "cell_type": "code",
      "execution_count": 1,
      "metadata": {
        "id": "yDt_3wsVwjv3"
      },
      "outputs": [],
      "source": [
        "import torch"
      ]
    },
    {
      "cell_type": "markdown",
      "source": [],
      "metadata": {
        "id": "xzXZ_EXpxHGT"
      }
    },
    {
      "cell_type": "markdown",
      "source": [
        "##2.Create a random tensor with shape (7, 7).\n"
      ],
      "metadata": {
        "id": "d2PfwFpXxIug"
      }
    },
    {
      "cell_type": "code",
      "source": [
        "random_tensor1 = torch.rand(7,7)\n",
        "random_tensor1, random_tensor1.shape"
      ],
      "metadata": {
        "colab": {
          "base_uri": "https://localhost:8080/"
        },
        "id": "2Ei_hwcAxNnL",
        "outputId": "cd12feaa-a58a-4df0-9dcb-2ba8f4b46555"
      },
      "execution_count": 3,
      "outputs": [
        {
          "output_type": "execute_result",
          "data": {
            "text/plain": [
              "(tensor([[0.2982, 0.2484, 0.7358, 0.3479, 0.9988, 0.8949, 0.1480],\n",
              "         [0.8801, 0.9638, 0.9532, 0.9318, 0.9433, 0.4129, 0.7349],\n",
              "         [0.8289, 0.7180, 0.2583, 0.1852, 0.9635, 0.9766, 0.3338],\n",
              "         [0.7665, 0.4271, 0.3018, 0.6620, 0.0863, 0.8206, 0.5676],\n",
              "         [0.1964, 0.7070, 0.2646, 0.1026, 0.4810, 0.6434, 0.6255],\n",
              "         [0.9714, 0.9093, 0.9136, 0.3087, 0.3069, 0.3600, 0.2185],\n",
              "         [0.5668, 0.8326, 0.0341, 0.7393, 0.8269, 0.2325, 0.3182]]),\n",
              " torch.Size([7, 7]))"
            ]
          },
          "metadata": {},
          "execution_count": 3
        }
      ]
    },
    {
      "cell_type": "markdown",
      "source": [
        "##3. Perform a matrix multiplication on the tensor from 2 with another random tensor with shape (1, 7)"
      ],
      "metadata": {
        "id": "GgvsPojPxsCS"
      }
    },
    {
      "cell_type": "code",
      "source": [
        "random_tensor2 = torch.rand(size=(1,7))\n",
        "torch.matmul(random_tensor1, random_tensor2.T)\n"
      ],
      "metadata": {
        "colab": {
          "base_uri": "https://localhost:8080/"
        },
        "id": "CZml-o6fxufJ",
        "outputId": "1f151d60-9567-4fba-ef38-4218eec3bd94"
      },
      "execution_count": 6,
      "outputs": [
        {
          "output_type": "execute_result",
          "data": {
            "text/plain": [
              "tensor([[2.6220],\n",
              "        [4.0125],\n",
              "        [3.1349],\n",
              "        [2.6249],\n",
              "        [2.1336],\n",
              "        [2.6172],\n",
              "        [2.6489]])"
            ]
          },
          "metadata": {},
          "execution_count": 6
        }
      ]
    },
    {
      "cell_type": "markdown",
      "source": [
        "##4. Set the random seed to 0 and do exercises 2 & 3 over again."
      ],
      "metadata": {
        "id": "Lh1xDTfvyogJ"
      }
    },
    {
      "cell_type": "code",
      "source": [
        "#set a manual seed\n",
        "torch.manual_seed(0)\n",
        "\n",
        "#create two random tensors\n",
        "X = torch.rand(size=(7,7))\n",
        "Y = torch.rand(size=(1,7))\n",
        "\n",
        "# Matrix multiply tensors\n",
        "Z = torch.matmul(X, Y.T)\n",
        "Z, Z.shape"
      ],
      "metadata": {
        "colab": {
          "base_uri": "https://localhost:8080/"
        },
        "id": "KIsKzgf_yvPl",
        "outputId": "a1099d84-2f7b-4fde-a3f0-765393f680d7"
      },
      "execution_count": 24,
      "outputs": [
        {
          "output_type": "execute_result",
          "data": {
            "text/plain": [
              "(tensor([[1.8542],\n",
              "         [1.9611],\n",
              "         [2.2884],\n",
              "         [3.0481],\n",
              "         [1.7067],\n",
              "         [2.5290],\n",
              "         [1.7989]]),\n",
              " torch.Size([7, 1]))"
            ]
          },
          "metadata": {},
          "execution_count": 24
        }
      ]
    },
    {
      "cell_type": "code",
      "source": [],
      "metadata": {
        "id": "FCPnkcHI0QYq"
      },
      "execution_count": null,
      "outputs": []
    }
  ]
}