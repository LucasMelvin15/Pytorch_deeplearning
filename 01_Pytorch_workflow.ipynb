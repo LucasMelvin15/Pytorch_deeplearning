{
  "nbformat": 4,
  "nbformat_minor": 0,
  "metadata": {
    "colab": {
      "provenance": [],
      "authorship_tag": "ABX9TyNWJ5szStQ/Mf3+7Ci6vbyY",
      "include_colab_link": true
    },
    "kernelspec": {
      "name": "python3",
      "display_name": "Python 3"
    },
    "language_info": {
      "name": "python"
    }
  },
  "cells": [
    {
      "cell_type": "markdown",
      "metadata": {
        "id": "view-in-github",
        "colab_type": "text"
      },
      "source": [
        "<a href=\"https://colab.research.google.com/github/LucasMelvin15/Pytorch_deeplearning/blob/main/01_Pytorch_workflow.ipynb\" target=\"_parent\"><img src=\"https://colab.research.google.com/assets/colab-badge.svg\" alt=\"Open In Colab\"/></a>"
      ]
    },
    {
      "cell_type": "code",
      "execution_count": 1,
      "metadata": {
        "colab": {
          "base_uri": "https://localhost:8080/",
          "height": 35
        },
        "id": "4PFMp5CRufR7",
        "outputId": "41df1090-ef02-40d3-97d7-0094cc2b2faa"
      },
      "outputs": [
        {
          "output_type": "execute_result",
          "data": {
            "text/plain": [
              "'2.3.0+cu121'"
            ],
            "application/vnd.google.colaboratory.intrinsic+json": {
              "type": "string"
            }
          },
          "metadata": {},
          "execution_count": 1
        }
      ],
      "source": [
        "import torch\n",
        "from torch import nn #nn contains all of pytorch's building blocks for neural networks\n",
        "import matplotlib.pyplot as plt #plotting and visualization of data\n",
        "\n",
        "#check the version\n",
        "torch.__version__\n"
      ]
    },
    {
      "cell_type": "markdown",
      "source": [
        "## Preparing and loading data\n",
        "\n",
        "Data in machine learning can be anything\n",
        "1. Spreadsheet\n",
        "2. DNA\n",
        "\n",
        "Two parts of machine learning\n",
        "1. Convert the data into numerical representation\n",
        "2. Create a model to learn the data ( patterns/ features/ weights/ numbers)\n",
        "\n",
        "To showcase this create some *known* data using the linear regression formula\n",
        "**Y = a + bX**\n",
        "\n",
        "X is the independent variable that is used to predict Y which is the dependent variable. The gradient/ slope of the line is `b` and `a` is the  y intercept when value of X=0\n",
        "\n",
        "We'll use the linear regression formula to make a straight line with known **parameters** (sth a model learns)"
      ],
      "metadata": {
        "id": "n3kQ52ipxmgU"
      }
    },
    {
      "cell_type": "code",
      "source": [
        "#Create known parameters\n",
        "weight = 0.7 #gradient\n",
        "bias= 0.3  # y intercept\n",
        "\n",
        "#Create\n",
        "start = 0\n",
        "end = 1\n",
        "step = 0.02\n",
        "\n",
        "X = torch.arange(start, end , step).unsqueeze(dim=1)\n",
        "y = weight * X + bias\n",
        "\n",
        "X[:10], y[:10] #show the first 10 values of each\n"
      ],
      "metadata": {
        "colab": {
          "base_uri": "https://localhost:8080/"
        },
        "id": "exj_GUohxXZD",
        "outputId": "60ec9653-1deb-4c34-eee9-c319db211ad9"
      },
      "execution_count": 2,
      "outputs": [
        {
          "output_type": "execute_result",
          "data": {
            "text/plain": [
              "(tensor([[0.0000],\n",
              "         [0.0200],\n",
              "         [0.0400],\n",
              "         [0.0600],\n",
              "         [0.0800],\n",
              "         [0.1000],\n",
              "         [0.1200],\n",
              "         [0.1400],\n",
              "         [0.1600],\n",
              "         [0.1800]]),\n",
              " tensor([[0.3000],\n",
              "         [0.3140],\n",
              "         [0.3280],\n",
              "         [0.3420],\n",
              "         [0.3560],\n",
              "         [0.3700],\n",
              "         [0.3840],\n",
              "         [0.3980],\n",
              "         [0.4120],\n",
              "         [0.4260]]))"
            ]
          },
          "metadata": {},
          "execution_count": 2
        }
      ]
    },
    {
      "cell_type": "code",
      "source": [
        "len(X), len(y)"
      ],
      "metadata": {
        "colab": {
          "base_uri": "https://localhost:8080/"
        },
        "id": "IGhOneG34UQv",
        "outputId": "ffc664f3-d27c-41c9-e3a7-6252beb4f882"
      },
      "execution_count": 3,
      "outputs": [
        {
          "output_type": "execute_result",
          "data": {
            "text/plain": [
              "(50, 50)"
            ]
          },
          "metadata": {},
          "execution_count": 3
        }
      ]
    },
    {
      "cell_type": "markdown",
      "source": [
        "## 1.Spliting data into training and test sets\n",
        "  \n",
        "  Test set - generalization( ability for a machine learning model to perform well on data it hasn't seen before)"
      ],
      "metadata": {
        "id": "cmTmo2FD5hfJ"
      }
    },
    {
      "cell_type": "code",
      "source": [
        "#create a train/test split\n",
        "train_split = int(0.8 * len(X))\n",
        "X_train, y_train = X[:train_split], y[:train_split]\n",
        "X_test, y_test = X[train_split:], y[train_split:]\n",
        "\n",
        "len(X_train), len(y_train), len(X_test), len(y_test)"
      ],
      "metadata": {
        "colab": {
          "base_uri": "https://localhost:8080/"
        },
        "id": "75bPrl6p6oum",
        "outputId": "ff53a928-5b6c-40db-e8ca-5fc75ea94a6b"
      },
      "execution_count": 4,
      "outputs": [
        {
          "output_type": "execute_result",
          "data": {
            "text/plain": [
              "(40, 40, 10, 10)"
            ]
          },
          "metadata": {},
          "execution_count": 4
        }
      ]
    },
    {
      "cell_type": "markdown",
      "source": [
        "How to better visualize our data?\n"
      ],
      "metadata": {
        "id": "LRxyC82T9yHx"
      }
    },
    {
      "cell_type": "code",
      "source": [
        "def plot_predictions (train_data=X_train,\n",
        "                      train_labels=y_train,\n",
        "                      test_data=X_test,\n",
        "                      test_labels=y_test,\n",
        "                      predictions=None):\n",
        "\n",
        "  #plots training data, test data and compares predictions\n",
        "\n",
        "\n",
        "  plt.figure(figsize=(5,3.5))\n",
        "\n",
        "  #plot training data in blue\n",
        "  plt.scatter(train_data, train_labels, c=\"b\", s=4, label=\"Training data\")\n",
        "\n",
        "  #plot testing data in green\n",
        "  plt.scatter(test_data, test_labels, c=\"g\", s=4, label=\"Testing data\")\n",
        "\n",
        "  if predictions is not None:\n",
        "    # Plot the predictions in red (predictions were made on the test data)\n",
        "    plt.scatter(test_data, predictions, c=\"r\", s=4, label=\"Predictions\")\n",
        "\n",
        "  # Show the legend\n",
        "  plt.legend(prop={\"size\": 14});\n",
        "\n",
        "\n"
      ],
      "metadata": {
        "id": "UPJ9jW3u-MTD"
      },
      "execution_count": 5,
      "outputs": []
    },
    {
      "cell_type": "code",
      "source": [
        " plot_predictions();"
      ],
      "metadata": {
        "colab": {
          "base_uri": "https://localhost:8080/",
          "height": 330
        },
        "id": "DdyN48Kkfm0c",
        "outputId": "e614df07-f7a5-4fe8-d40b-ee9014521dc3"
      },
      "execution_count": 6,
      "outputs": [
        {
          "output_type": "display_data",
          "data": {
            "text/plain": [
              "<Figure size 500x350 with 1 Axes>"
            ],
            "image/png": "[encoded data removed]"
          },
          "metadata": {}
        }
      ]
    },
    {
      "cell_type": "markdown",
      "source": [
        "##2. Build model\n",
        "\n",
        "What the model does:\n",
        "* Start with random values(weights and bias)\n",
        "* Look at training data and adjust the random values to better represent (or get closer) to the ideal values(the weight and bias values we used to create the data)\n",
        "\n",
        "How does it do so?\n",
        "1. Gradient descent\n",
        "2.Backpropagation"
      ],
      "metadata": {
        "id": "Gcq6DBVAbPRZ"
      }
    },
    {
      "cell_type": "code",
      "source": [
        "import torch\n",
        "from torch import nn\n",
        "# Create a Linear Regression model class\n",
        "class LinearRegressionModel(nn.Module): # <- almost everything in PyTorch is a nn.Module (think of this as neural network lego blocks)\n",
        "    def __init__(self):\n",
        "        super().__init__()\n",
        "        self.weights = nn.Parameter(torch.randn(1, # <- start with random weights (this will get adjusted as the model learns)\n",
        "                                                dtype=torch.float), # <- PyTorch loves float32 by default\n",
        "                                   requires_grad=True) # <- can we update this value with gradient descent?)\n",
        "\n",
        "        self.bias = nn.Parameter(torch.randn(1, # <- start with random bias (this will get adjusted as the model learns)\n",
        "                                            dtype=torch.float), # <- PyTorch loves float32 by default\n",
        "                                requires_grad=True) # <- can we update this value with gradient descent?))\n",
        "\n",
        "    # Forward defines the computation in the model\n",
        "    def forward(self, x: torch.Tensor) -> torch.Tensor: # <- \"x\" is the input data (e.g. training/testing features)\n",
        "        return self.weights * x + self.bias # <- this is the linear regression formula (y = m*x + b)"
      ],
      "metadata": {
        "id": "pfxYbBQ6bgzS"
      },
      "execution_count": 7,
      "outputs": []
    },
    {
      "cell_type": "markdown",
      "source": [
        "### Pytorch model building essentials\n",
        "\n",
        "* torch.nn - Contains all the building blocks for neural networks (computational graphs)\n",
        "* torch.nn.Parameter - what parameters should our model try and learn, often a Pytorch layer from torch.nn will set these for us\n",
        "* torch.nn.Module - The base class for all neural network modules, if you subclass it you should overwrite forward()\n",
        "* torch.optim - this is where the optimizers in pytorch live, they will help with gradient descent. Contains various optimization algorithms\n",
        "* def forward() - all nn.Module subclasses require you to overwrite forward(), this method defines what happens in the forward computation.\n",
        "computation in our case is a linear regression formula"
      ],
      "metadata": {
        "id": "NmkjQ7kxJo6b"
      }
    },
    {
      "cell_type": "markdown",
      "source": [
        "## Checking the contents of our PyTorch model\n",
        "\n",
        "We can check our model parameters or what's inside our model using `.parameters()`"
      ],
      "metadata": {
        "id": "uNCE8ke6N3H_"
      }
    },
    {
      "cell_type": "code",
      "source": [
        "# Set manual seed since nn.Parameter are randomly initialzied\n",
        "torch.manual_seed(42)\n",
        "\n",
        "# Create an instance of the model (this is a subclass of nn.Module that contains nn.Parameter(s))\n",
        "model_0 = LinearRegressionModel()\n",
        "\n",
        "# Check the nn.Parameter(s) within the nn.Module subclass we created\n",
        "list(model_0.parameters())\n",
        "\n",
        "\n",
        "\n"
      ],
      "metadata": {
        "colab": {
          "base_uri": "https://localhost:8080/"
        },
        "id": "6EBikTRVNzVS",
        "outputId": "23324231-2c52-48d5-dec0-af264b224c58"
      },
      "execution_count": 8,
      "outputs": [
        {
          "output_type": "execute_result",
          "data": {
            "text/plain": [
              "[Parameter containing:\n",
              " tensor([0.3367], requires_grad=True),\n",
              " Parameter containing:\n",
              " tensor([0.1288], requires_grad=True)]"
            ]
          },
          "metadata": {},
          "execution_count": 8
        }
      ]
    },
    {
      "cell_type": "code",
      "source": [
        "#list named parameters\n",
        "model_0.state_dict()"
      ],
      "metadata": {
        "colab": {
          "base_uri": "https://localhost:8080/"
        },
        "id": "onFUUgL9buqi",
        "outputId": "ec7a7fcc-1089-4dd4-e4f0-e01c69acf0ab"
      },
      "execution_count": 9,
      "outputs": [
        {
          "output_type": "execute_result",
          "data": {
            "text/plain": [
              "OrderedDict([('weights', tensor([0.3367])), ('bias', tensor([0.1288]))])"
            ]
          },
          "metadata": {},
          "execution_count": 9
        }
      ]
    },
    {
      "cell_type": "markdown",
      "source": [
        "### Making predictions with `torch.inference_mode()`\n",
        "\n",
        "To check our model's predictive power, let's see how well it predicts `y_test` based on `X_test`.\n",
        "When we pass data through our model, it's going to run through the `forward()` method."
      ],
      "metadata": {
        "id": "y4ylL7GK5Zfn"
      }
    },
    {
      "cell_type": "code",
      "source": [
        "#Make predictions with model\n",
        "with torch.inference_mode():\n",
        "  y_preds = model_0(X_test)\n",
        "\n",
        "\n",
        "y_preds"
      ],
      "metadata": {
        "colab": {
          "base_uri": "https://localhost:8080/"
        },
        "id": "LjFt8pCj5fFc",
        "outputId": "fb599230-de0b-4f23-a83d-5fda7c6f5ee9"
      },
      "execution_count": 10,
      "outputs": [
        {
          "output_type": "execute_result",
          "data": {
            "text/plain": [
              "tensor([[0.3982],\n",
              "        [0.4049],\n",
              "        [0.4116],\n",
              "        [0.4184],\n",
              "        [0.4251],\n",
              "        [0.4318],\n",
              "        [0.4386],\n",
              "        [0.4453],\n",
              "        [0.4520],\n",
              "        [0.4588]])"
            ]
          },
          "metadata": {},
          "execution_count": 10
        }
      ]
    },
    {
      "cell_type": "code",
      "source": [
        "y_test"
      ],
      "metadata": {
        "colab": {
          "base_uri": "https://localhost:8080/"
        },
        "id": "v5REptA87FFa",
        "outputId": "ab7458c5-f18b-4015-857a-5332c51952d4"
      },
      "execution_count": 11,
      "outputs": [
        {
          "output_type": "execute_result",
          "data": {
            "text/plain": [
              "tensor([[0.8600],\n",
              "        [0.8740],\n",
              "        [0.8880],\n",
              "        [0.9020],\n",
              "        [0.9160],\n",
              "        [0.9300],\n",
              "        [0.9440],\n",
              "        [0.9580],\n",
              "        [0.9720],\n",
              "        [0.9860]])"
            ]
          },
          "metadata": {},
          "execution_count": 11
        }
      ]
    },
    {
      "cell_type": "markdown",
      "source": [],
      "metadata": {
        "id": "mxh-vr305ZOT"
      }
    },
    {
      "cell_type": "code",
      "source": [
        "plot_predictions(predictions=y_preds)"
      ],
      "metadata": {
        "colab": {
          "base_uri": "https://localhost:8080/",
          "height": 330
        },
        "id": "znzSmgnk5WpL",
        "outputId": "31b7416e-846f-48dd-f799-478c681f4362"
      },
      "execution_count": 12,
      "outputs": [
        {
          "output_type": "display_data",
          "data": {
            "text/plain": [
              "<Figure size 500x350 with 1 Axes>"
            ],
            "image/png": "[encoded data removed]"
          },
          "metadata": {}
        }
      ]
    },
    {
      "cell_type": "markdown",
      "source": [
        "## 3. Train Model\n",
        "The whole idea of training is for the model to move from some `unknown` parameters(these may be random) to `known` parameters.ie better representation of data.\n",
        "\n",
        "One way to measure how poor or wrong your models predictions are is to use a loss function.\n",
        "\n",
        "Things we need to train:\n",
        "\n",
        "**Loss function**\n",
        "A function to measure how wrong your model's predictions are to the ideal outputs.\n",
        "If your predictions are totally off, your loss function will output a higher number. If they're pretty good, it'll output a lower number.\n",
        "\n",
        "**Optimizer**\n",
        "Takes into account the loss of a model and adjusts the model's parameters (e.g weights and bias) to improve the loss function.\n",
        "   * Inside the optimizer you will have to set two parameters\n",
        "\n",
        "     * `params` - the model parameters you'd like to optimize (ie in our case `model_0` `params=model_0.parameters()` )\n",
        "     * `lr` (learning rate)- the learning rate is a hyperparameter that defines how big/small the optimizer changes the parameters with each step (a small lr results in small changes, a large lr results in large changes)\n",
        "\n",
        "And specifically in PyTorch we need:\n",
        "\n",
        "* A training loop\n",
        "* A testing loop\n"
      ],
      "metadata": {
        "id": "dNqjIrkF-NpT"
      }
    },
    {
      "cell_type": "code",
      "source": [
        "#Check out the model parameters\n",
        "list(model_0.parameters())"
      ],
      "metadata": {
        "colab": {
          "base_uri": "https://localhost:8080/"
        },
        "id": "7bwMhl-t-r9D",
        "outputId": "7f2b580b-c106-42de-bb0f-40bba13fa87c"
      },
      "execution_count": 13,
      "outputs": [
        {
          "output_type": "execute_result",
          "data": {
            "text/plain": [
              "[Parameter containing:\n",
              " tensor([0.3367], requires_grad=True),\n",
              " Parameter containing:\n",
              " tensor([0.1288], requires_grad=True)]"
            ]
          },
          "metadata": {},
          "execution_count": 13
        }
      ]
    },
    {
      "cell_type": "code",
      "source": [
        "#Check out the model parameters\n",
        "model_0.state_dict()"
      ],
      "metadata": {
        "colab": {
          "base_uri": "https://localhost:8080/"
        },
        "id": "8BjBScwWBSIP",
        "outputId": "42d57348-bdb9-4a10-ce37-9e795059bbf8"
      },
      "execution_count": 14,
      "outputs": [
        {
          "output_type": "execute_result",
          "data": {
            "text/plain": [
              "OrderedDict([('weights', tensor([0.3367])), ('bias', tensor([0.1288]))])"
            ]
          },
          "metadata": {},
          "execution_count": 14
        }
      ]
    },
    {
      "cell_type": "code",
      "source": [
        "# Setup a loss function. Different loss functions exist\n",
        "# 1. For this one we will use the mean absolute error loss function\n",
        " # https://neptune.ai/blog/pytorch-loss-functions\n",
        "\n",
        "mae_loss_func = nn.L1Loss()\n",
        "\n",
        "# Set up an optimzer (SGD)\n",
        "optimizer = torch.optim.SGD(params=model_0.parameters(),\n",
        "                            lr= 0.01) #Lr = Learning rate\n"
      ],
      "metadata": {
        "id": "p35upkqgTkha"
      },
      "execution_count": 15,
      "outputs": []
    },
    {
      "cell_type": "markdown",
      "source": [
        "##Building a training loop and a testing in PyTorch couple\n",
        "\n",
        "A couple of things we need in a training loop:\n",
        "0. Loop through the data\n",
        "1. Forward pass (this involves data moving through our model's `forward()` functions) to make predictions on data- also called forward propagation\n",
        "2. Calculate the loss (compare forward pass prediction to ground truth labels )\n",
        "3. Optimizer zero grad\n",
        "4. Loss backward - move backwards through the network to calculate the gradients of each of the parameters of our model with respect to loss\n",
        "(**backpropagation**)\n",
        "5. Optimizer step - use the optimizer to adjust our model's parameters to try and improve the loss (**gradient descent**)\n"
      ],
      "metadata": {
        "id": "wCr8n95baClZ"
      }
    },
    {
      "cell_type": "code",
      "source": [
        "torch.manual_seed(42)\n",
        "\n",
        " # an epoch is one loop through the data\n",
        "epochs = 200\n",
        "\n",
        "#Track different values\n",
        "epoch_count = []\n",
        "loss_values = []\n",
        "test_loss_values = []\n",
        "\n",
        "\n",
        "###Training\n",
        "#0. Loop through the data\n",
        "for epoch in range(epochs):\n",
        "  #set the model to training mode\n",
        "  model_0.train() # train mode in pytorch sets all parameters that require gradients to require gradients\n",
        "\n",
        "  #1. forward pass\n",
        "  y_pred = model_0(X_train)\n",
        "\n",
        "  #2. calculate the loss\n",
        "  loss = mae_loss_func(y_pred, y_train)\n",
        "\n",
        "  #3. optimizer zero grad\n",
        "  optimizer.zero_grad()\n",
        "\n",
        "  #4. perform backpropagation on the loss with respect to model parameters\n",
        "  loss.backward()\n",
        "\n",
        "  #5. step the optimizer- to update the model's parameters with respect to the gradients calculatedby loss.backward()\n",
        "  optimizer.step()\n",
        "\n",
        "  ### Testing\n",
        "  model_0.eval() # turns off different settings in the model not needed for evaluation /testing\n",
        "  with torch.inference_mode():\n",
        "    #1. do the forward pass\n",
        "    test_pred = model_0(X_test)\n",
        "\n",
        "    #2. calculate the loss\n",
        "    test_loss = mae_loss_func(test_pred, y_test)\n",
        "\n",
        "    #print out whats happening\n",
        "  if epoch % 10 == 0:\n",
        "    epoch_count.append(epoch)\n",
        "    loss_values.append(loss)\n",
        "    test_loss_values.append(test_loss)\n",
        "\n",
        "    print(f\"Epoch: {epoch} | loss: {loss}| Test loss: {test_loss}\")\n",
        "\n",
        "\n",
        "\n",
        "model_0.state_dict()\n",
        ""
      ],
      "metadata": {
        "colab": {
          "base_uri": "https://localhost:8080/"
        },
        "id": "XpEtCraXaJ1w",
        "outputId": "e61e3923-f7e6-4a4b-b6fd-671d382b4a71"
      },
      "execution_count": 16,
      "outputs": [
        {
          "output_type": "stream",
          "name": "stdout",
          "text": [
            "Epoch: 0 | loss: 0.31288138031959534| Test loss: 0.48106518387794495\n",
            "Epoch: 10 | loss: 0.1976713240146637| Test loss: 0.3463551998138428\n",
            "Epoch: 20 | loss: 0.08908725529909134| Test loss: 0.21729660034179688\n",
            "Epoch: 30 | loss: 0.053148526698350906| Test loss: 0.14464017748832703\n",
            "Epoch: 40 | loss: 0.04543796554207802| Test loss: 0.11360953003168106\n",
            "Epoch: 50 | loss: 0.04167863354086876| Test loss: 0.09919948130846024\n",
            "Epoch: 60 | loss: 0.03818932920694351| Test loss: 0.08886633068323135\n",
            "Epoch: 70 | loss: 0.03476089984178543| Test loss: 0.0805937647819519\n",
            "Epoch: 80 | loss: 0.03132382780313492| Test loss: 0.07232122868299484\n",
            "Epoch: 90 | loss: 0.02788739837706089| Test loss: 0.06473556160926819\n",
            "Epoch: 100 | loss: 0.024458957836031914| Test loss: 0.05646304413676262\n",
            "Epoch: 110 | loss: 0.021020207554101944| Test loss: 0.04819049686193466\n",
            "Epoch: 120 | loss: 0.01758546568453312| Test loss: 0.04060482233762741\n",
            "Epoch: 130 | loss: 0.014155393466353416| Test loss: 0.03233227878808975\n",
            "Epoch: 140 | loss: 0.010716589167714119| Test loss: 0.024059748277068138\n",
            "Epoch: 150 | loss: 0.0072835334576666355| Test loss: 0.016474086791276932\n",
            "Epoch: 160 | loss: 0.0038517764769494534| Test loss: 0.008201557211577892\n",
            "Epoch: 170 | loss: 0.008932482451200485| Test loss: 0.005023092031478882\n",
            "Epoch: 180 | loss: 0.008932482451200485| Test loss: 0.005023092031478882\n",
            "Epoch: 190 | loss: 0.008932482451200485| Test loss: 0.005023092031478882\n"
          ]
        },
        {
          "output_type": "execute_result",
          "data": {
            "text/plain": [
              "OrderedDict([('weights', tensor([0.6990])), ('bias', tensor([0.3093]))])"
            ]
          },
          "metadata": {},
          "execution_count": 16
        }
      ]
    },
    {
      "cell_type": "code",
      "source": [
        "import numpy as np"
      ],
      "metadata": {
        "id": "hwBiR6atlPFc"
      },
      "execution_count": 23,
      "outputs": []
    },
    {
      "cell_type": "code",
      "source": [
        "#plot the loss curves\n",
        "plt.plot(epoch_count, np.array(torch.tensor(loss_values).numpy()), label=\"Train loss\")\n",
        "plt.plot(epoch_count, test_loss_values, label=\"Test loss\")\n",
        "plt.title(\"Training and test loss curves\")\n",
        "plt.ylabel(\"loss\")\n",
        "plt.xlabel(\"Epochs\")\n",
        "plt.legend()\n",
        "\n"
      ],
      "metadata": {
        "colab": {
          "base_uri": "https://localhost:8080/",
          "height": 489
        },
        "id": "ZZbwzqgwjKpr",
        "outputId": "66f1d8b2-3590-44cc-f92b-3c96d2f7d09b"
      },
      "execution_count": 24,
      "outputs": [
        {
          "output_type": "execute_result",
          "data": {
            "text/plain": [
              "<matplotlib.legend.Legend at 0x7a99626b3580>"
            ]
          },
          "metadata": {},
          "execution_count": 24
        },
        {
          "output_type": "display_data",
          "data": {
            "text/plain": [
              "<Figure size 640x480 with 1 Axes>"
            ],
            "image/png": "[encoded data removed]"
          },
          "metadata": {}
        }
      ]
    },
    {
      "cell_type": "code",
      "source": [
        "with torch.inference_mode():\n",
        "  y_preds_new = model_0(X_test)\n",
        "\n",
        "y_preds_new\n",
        ""
      ],
      "metadata": {
        "colab": {
          "base_uri": "https://localhost:8080/"
        },
        "id": "ehy2Jc1AtMIU",
        "outputId": "1b2da89a-c95d-4c4b-9809-3dbd7eabfe81"
      },
      "execution_count": 17,
      "outputs": [
        {
          "output_type": "execute_result",
          "data": {
            "text/plain": [
              "tensor([[0.8685],\n",
              "        [0.8825],\n",
              "        [0.8965],\n",
              "        [0.9105],\n",
              "        [0.9245],\n",
              "        [0.9384],\n",
              "        [0.9524],\n",
              "        [0.9664],\n",
              "        [0.9804],\n",
              "        [0.9944]])"
            ]
          },
          "metadata": {},
          "execution_count": 17
        }
      ]
    },
    {
      "cell_type": "code",
      "source": [
        "model_0.state_dict()"
      ],
      "metadata": {
        "colab": {
          "base_uri": "https://localhost:8080/"
        },
        "id": "Rj-mnw9_gxs1",
        "outputId": "fbee9b69-734e-4199-ec07-3ef98e890723"
      },
      "execution_count": 18,
      "outputs": [
        {
          "output_type": "execute_result",
          "data": {
            "text/plain": [
              "OrderedDict([('weights', tensor([0.6990])), ('bias', tensor([0.3093]))])"
            ]
          },
          "metadata": {},
          "execution_count": 18
        }
      ]
    },
    {
      "cell_type": "code",
      "source": [
        "weight, bias"
      ],
      "metadata": {
        "colab": {
          "base_uri": "https://localhost:8080/"
        },
        "id": "KMQgt-0SgqWn",
        "outputId": "70366dd8-4aeb-4e69-869f-dbfd440c4799"
      },
      "execution_count": 19,
      "outputs": [
        {
          "output_type": "execute_result",
          "data": {
            "text/plain": [
              "(0.7, 0.3)"
            ]
          },
          "metadata": {},
          "execution_count": 19
        }
      ]
    },
    {
      "cell_type": "code",
      "source": [
        "plot_predictions(predictions=y_preds_new)"
      ],
      "metadata": {
        "colab": {
          "base_uri": "https://localhost:8080/",
          "height": 330
        },
        "id": "fIe4GjPOt3nB",
        "outputId": "f3c55718-e636-4ebd-8b14-e8f54bbc8519"
      },
      "execution_count": 20,
      "outputs": [
        {
          "output_type": "display_data",
          "data": {
            "text/plain": [
              "<Figure size 500x350 with 1 Axes>"
            ],
            "image/png": "[encoded data removed]"
          },
          "metadata": {}
        }
      ]
    },
    {
      "cell_type": "markdown",
      "source": [
        "## Saving a model in pytorch\n",
        "\n",
        "There are three main methods for saving and loading models in PyTorch.\n",
        "\n",
        "1. `torch.save()` - allows you to save a PyTorch object in python's pickle format\n",
        "2. `torch.load()`- allows you to load a saved PyTorch object\n",
        "3. `torch.nn.module.load_state_dict()` -Loads a model's parameter dictionary using a deserialized `state_dict`- state dictionanary hence used to load a models saved state dictionary"
      ],
      "metadata": {
        "id": "9NJ0V2DCqXTW"
      }
    },
    {
      "cell_type": "code",
      "source": [
        "#saving our pytorch model\n",
        "from pathlib import Path\n",
        "\n",
        "#1. Create a models directory\n",
        "MODEL_PATH = Path('models')\n",
        "MODEL_PATH.mkdir(parents=True, exist_ok=True)\n",
        "\n",
        "#2. Create model save path\n",
        "MODEL_NAME= \"01_pytorch_workflow_model_0.pth\"\n",
        "MODEL_SAVE_PATH = MODEL_PATH / MODEL_NAME\n",
        "\n",
        "# 3. Save the model state dict\n",
        "print(f\"Saving model to:{MODEL_SAVE_PATH}\")\n",
        "torch.save(obj=model_0.state_dict(),\n",
        "           f=MODEL_SAVE_PATH)\n",
        "\n"
      ],
      "metadata": {
        "colab": {
          "base_uri": "https://localhost:8080/"
        },
        "id": "5AQWfTIosb0Q",
        "outputId": "62f03180-b4ae-4fc3-cee5-c0fe9c55b21c"
      },
      "execution_count": 25,
      "outputs": [
        {
          "output_type": "stream",
          "name": "stdout",
          "text": [
            "Saving model to:models/01_pytorch_workflow_model_0.pth\n"
          ]
        }
      ]
    },
    {
      "cell_type": "code",
      "source": [
        "model_0.state_dict()"
      ],
      "metadata": {
        "colab": {
          "base_uri": "https://localhost:8080/"
        },
        "id": "GhYSpKPpy1o0",
        "outputId": "5d4892da-6bb5-470f-e13b-e6956d44d0aa"
      },
      "execution_count": 26,
      "outputs": [
        {
          "output_type": "execute_result",
          "data": {
            "text/plain": [
              "OrderedDict([('weights', tensor([0.6990])), ('bias', tensor([0.3093]))])"
            ]
          },
          "metadata": {},
          "execution_count": 26
        }
      ]
    },
    {
      "cell_type": "markdown",
      "source": [
        "### Loading a PyTorch Model\n",
        "Since we saved our models `state_dict()` rather than the entire model, we'll create a new instance of our model class and load the saved `state_dict` into that"
      ],
      "metadata": {
        "id": "f5Kvlp1VxIut"
      }
    },
    {
      "cell_type": "code",
      "source": [
        "#loading a Pytorch  model\n",
        "\n",
        "#to load in a saved state_dict we have to instanciate a new instance of our model class\n",
        "loaded_model_0 = LinearRegressionModel()\n",
        "\n",
        "#load the saved state_dict of model_0 (this will update the new instance with updated parameters)\n",
        "loaded_model_0.load_state_dict(torch.load(f=MODEL_SAVE_PATH))\n",
        "\n",
        "#"
      ],
      "metadata": {
        "colab": {
          "base_uri": "https://localhost:8080/"
        },
        "id": "IwRh8kgYwN-q",
        "outputId": "a589e5ca-3572-4c60-bf3d-50bb21273596"
      },
      "execution_count": 27,
      "outputs": [
        {
          "output_type": "execute_result",
          "data": {
            "text/plain": [
              "<All keys matched successfully>"
            ]
          },
          "metadata": {},
          "execution_count": 27
        }
      ]
    },
    {
      "cell_type": "code",
      "source": [
        "loaded_model_0.state_dict()"
      ],
      "metadata": {
        "colab": {
          "base_uri": "https://localhost:8080/"
        },
        "id": "H1OoB-88y70k",
        "outputId": "acf6ea43-77bc-46ae-cac5-2b0afe6e9388"
      },
      "execution_count": 28,
      "outputs": [
        {
          "output_type": "execute_result",
          "data": {
            "text/plain": [
              "OrderedDict([('weights', tensor([0.6990])), ('bias', tensor([0.3093]))])"
            ]
          },
          "metadata": {},
          "execution_count": 28
        }
      ]
    },
    {
      "cell_type": "code",
      "source": [
        "#make some predictions\n",
        "\n",
        "loaded_model_0.eval()\n",
        "with torch.inference_mode():\n",
        "  loaded_model_preds = loaded_model_0(X_test)\n",
        "\n",
        "loaded_model_preds"
      ],
      "metadata": {
        "colab": {
          "base_uri": "https://localhost:8080/"
        },
        "id": "zML9SkrNzHYL",
        "outputId": "d4b6999f-8521-4c51-95ba-e8bdf685297b"
      },
      "execution_count": 29,
      "outputs": [
        {
          "output_type": "execute_result",
          "data": {
            "text/plain": [
              "tensor([[0.8685],\n",
              "        [0.8825],\n",
              "        [0.8965],\n",
              "        [0.9105],\n",
              "        [0.9245],\n",
              "        [0.9384],\n",
              "        [0.9524],\n",
              "        [0.9664],\n",
              "        [0.9804],\n",
              "        [0.9944]])"
            ]
          },
          "metadata": {},
          "execution_count": 29
        }
      ]
    },
    {
      "cell_type": "code",
      "source": [
        "#compare loaded model preds with original model preds\n",
        "y_preds_new == loaded_model_preds"
      ],
      "metadata": {
        "colab": {
          "base_uri": "https://localhost:8080/"
        },
        "id": "QyDnyD8Xzk9Q",
        "outputId": "ef7cef0c-ca3d-4d64-9f30-af556c4b5cd3"
      },
      "execution_count": 30,
      "outputs": [
        {
          "output_type": "execute_result",
          "data": {
            "text/plain": [
              "tensor([[True],\n",
              "        [True],\n",
              "        [True],\n",
              "        [True],\n",
              "        [True],\n",
              "        [True],\n",
              "        [True],\n",
              "        [True],\n",
              "        [True],\n",
              "        [True]])"
            ]
          },
          "metadata": {},
          "execution_count": 30
        }
      ]
    }
  ]
}